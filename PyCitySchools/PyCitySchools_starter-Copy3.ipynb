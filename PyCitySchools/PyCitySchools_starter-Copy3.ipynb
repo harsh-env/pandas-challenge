{
 "cells": [
  {
   "cell_type": "markdown",
   "metadata": {},
   "source": [
    "### Note\n",
    "* Instructions have been included for each segment. You do not have to follow them exactly, but they are included to help you think through the steps."
   ]
  },
  {
   "cell_type": "code",
   "execution_count": 14,
   "metadata": {},
   "outputs": [],
   "source": [
    "# Dependencies and Setup\n",
    "import pandas as pd\n",
    "import numpy as np\n",
    "\n",
    "# File to Load (Remember to Change These)\n",
    "school_data_to_load = \"Resources/schools_complete.csv\"\n",
    "student_data_to_load = \"Resources/students_complete.csv\"\n",
    "\n",
    "# Read School and Student Data File and store into Pandas DataFrames\n",
    "school_data = pd.read_csv(school_data_to_load)\n",
    "student_data = pd.read_csv(student_data_to_load)\n",
    "Sch_list = school_data[\"school_name\"]\n",
    "df_1 = school_data.set_index(\"school_name\")\n",
    "total_schools = len(df_1)\n",
    "# Combine the data into a single dataset.  \n",
    "\n",
    "school_data_complete = pd.merge(student_data, school_data, how=\"left\", on=[\"school_name\", \"school_name\"])\n",
    "df_2 = school_data_complete.set_index(\"school_name\")\n",
    "total_students = len(df_2)\n",
    "# df_2.index, df_1.index"
   ]
  },
  {
   "cell_type": "code",
   "execution_count": 18,
   "metadata": {},
   "outputs": [
    {
     "data": {
      "text/html": [
       "<div>\n",
       "<style scoped>\n",
       "    .dataframe tbody tr th:only-of-type {\n",
       "        vertical-align: middle;\n",
       "    }\n",
       "\n",
       "    .dataframe tbody tr th {\n",
       "        vertical-align: top;\n",
       "    }\n",
       "\n",
       "    .dataframe thead th {\n",
       "        text-align: right;\n",
       "    }\n",
       "</style>\n",
       "<table border=\"1\" class=\"dataframe\">\n",
       "  <thead>\n",
       "    <tr style=\"text-align: right;\">\n",
       "      <th></th>\n",
       "      <th>Total Schools</th>\n",
       "      <th>Total Students</th>\n",
       "      <th>Total Budget</th>\n",
       "      <th>Average Math Score</th>\n",
       "    </tr>\n",
       "  </thead>\n",
       "  <tbody>\n",
       "    <tr>\n",
       "      <th>0</th>\n",
       "      <td>15</td>\n",
       "      <td>39170</td>\n",
       "      <td>24649428</td>\n",
       "      <td>78.99</td>\n",
       "    </tr>\n",
       "  </tbody>\n",
       "</table>\n",
       "</div>"
      ],
      "text/plain": [
       "   Total Schools  Total Students  Total Budget  Average Math Score\n",
       "0             15           39170      24649428               78.99"
      ]
     },
     "execution_count": 18,
     "metadata": {},
     "output_type": "execute_result"
    }
   ],
   "source": [
    "total_budget = df_1[\"budget\"].sum()\n",
    "avg_math_score= round(df_2[\"math_score\"].mean(), 2)\n",
    "avg_reading_score= df_2[\"reading_score\"].mean()\n",
    "\n",
    "studs_passing_math = len(df_2[\"math_score\"]>69)\n",
    "percent_passing_math = studs_passing_math * 100/(len(df_2[\"math_score\"]))\n",
    " \n",
    "studs_passing_reading = len(df_2[\"reading_score\"]>69)\n",
    "\n",
    "\n",
    "  studs_passing_reading * 100/(len(school_data_complete[\"reading_score\"]))\n",
    "\n",
    "summary_df = pd.DataFrame({\"Total Schools\":[total_schools], \n",
    "                          \"Total Students\":[total_students],\n",
    "                          \"Total Budget\": [total_budget],\n",
    "                           \"Average Math Score\": avg_math_score})\n",
    "#                            \"Average Reading Score\": avg_reading_score,\n",
    "#                            \"% Passing Math\": percent_passing_math}) \n",
    "#                            \"% Passing Reading\": percent_passing_reading, \n",
    "#                            \"% Overall Passing\": percent_studs_passing_overall})\n",
    "summary_df"
   ]
  },
  {
   "cell_type": "code",
   "execution_count": null,
   "metadata": {},
   "outputs": [],
   "source": [
    "\n"
   ]
  },
  {
   "cell_type": "code",
   "execution_count": null,
   "metadata": {},
   "outputs": [],
   "source": []
  },
  {
   "cell_type": "markdown",
   "metadata": {},
   "source": [
    "## District Summary\n",
    "\n",
    "* Calculate the total number of schools\n",
    "\n",
    "* Calculate the total number of students\n",
    "\n",
    "* Calculate the total budget\n",
    "\n",
    "* Calculate the average math score \n",
    "\n",
    "* Calculate the average reading score\n",
    "\n",
    "* Calculate the percentage of students with a passing math score (70 or greater)\n",
    "\n",
    "* Calculate the percentage of students with a passing reading score (70 or greater)\n",
    "\n",
    "* Calculate the percentage of students who passed math **and** reading (% Overall Passing)\n",
    "\n",
    "* Create a dataframe to hold the above results\n",
    "\n",
    "* Optional: give the displayed data cleaner formatting"
   ]
  },
  {
   "cell_type": "code",
   "execution_count": null,
   "metadata": {},
   "outputs": [],
   "source": [
    "# school_data_complete.describe()\n",
    "\n",
    "\n",
    "#unique functions picks out all the right school names\n",
    "# sch_name_list=[]\n",
    "# sch_name_list =school_data_complete[\"school_name\"].unique()\n",
    "# sch_name_list\n",
    "\n",
    "#by changing index, the value of budget can be grabbed and added together.\n",
    "\n",
    "# total_budget = df_data.loc[sch_name_list, \"budget\"].unique().sum()\n",
    "# avg_math_score= df_data[\"math_score\"].mean()\n",
    "\n",
    "# # avg_reading_score= school_data_complete[\"reading_score\"].mean()\n",
    "# avg_reading_score= df_data[\"reading_score\"].mean()\n",
    "# avg_math_score, avg_reading_score\n",
    "# # df_data.columns , total_budget\n",
    "\n",
    "# studs_passing_math = len(school_data_complete.loc[school_data_complete[\"math_score\"]>69])\n",
    "# percent_passing_math = studs_passing_math * 100/(len(school_data_complete[\"math_score\"]))\n",
    "# studs_passing_reading = len(school_data_complete.loc[school_data_complete[\"reading_score\"]>69])\n",
    "# percent_passing_reading = studs_passing_reading * 100/(len(school_data_complete[\"reading_score\"]))\n",
    "# studs_passing_math , percent_passing_math , studs_passing_reading, percent_passing_reading\n",
    "\n",
    "# studs_passing_overall = school_data_complete.loc[(school_data_complete[\"reading_score\"]>69) & \n",
    "#                                                  (school_data_complete[\"math_score\"]>69), :]\n",
    "# percent_studs_passing_overall = len(studs_passing_overall)*100/Total_num_students\n",
    "# studs_passing_overall, percent_studs_passing_overall\n",
    "\n",
    "# summary_df = pd.DataFrame({\"Total Schools\": [Total_num_schools], \n",
    "#                           \"Total Students\": Total_num_students, \n",
    "#                           \"Total Budget\": total_budget, \n",
    "#                            \"Average Math Score\": avg_math_score,\n",
    "#                            \"Average Reading Score\": avg_reading_score,\n",
    "#                            \"% Passing Math\": percent_passing_math, \n",
    "#                            \"% Passing Reading\": percent_passing_reading, \n",
    "#                            \"% Overall Passing\": percent_studs_passing_overall})\n",
    "# summary_df"
   ]
  },
  {
   "cell_type": "code",
   "execution_count": null,
   "metadata": {},
   "outputs": [],
   "source": [
    "# studs_each_school = df_data.loc[\"school_name\"].value_counts()\n",
    "# df_data = school_data_complete.set_index(\"school_name\")\n",
    "# # studs_each_school  = df_data.loc[sch_name_list, \"budget\"].value_counts()\n",
    "# studs_each_school  = school_data_complete[\"school_name\"].value_counts()\n",
    "# # total_budget = df_data.loc[sch_name_list, \"budget\"].unique()\n",
    "# # studs_each = df_data.loc[sch_name_list, \"student_name\"].unique()\n",
    "# total_budget = school_data_complete[\"budget\"].unique()\n",
    "# per_student_budget = total_budget / studs_each_school \n",
    "# studs_each_school , total_budget, per_student_budget \n",
    "# grp_schools_df = df_data.groupby([\"school_name\"])\n",
    "# # print(grp_schools_df)\n",
    "# grp_schools_df  = school_data_complete.set_index(\"school_name\")\n",
    "# sum_m_score = grp_schools_df[[\"math_score\"]].sum()\n",
    "# tot_num_studs = grp_schools_df[[\"math_score\"]].count()\n",
    "# avg_math_score = sum_m_score / tot_num_studs\n",
    "# # avg_math_score\n",
    "\n",
    "# sum_reading_score = grp_schools_df[[\"reading_score\"]].sum()\n",
    "# tot_num_studs_reading = grp_schools_df[[\"reading_score\"]].count()\n",
    "# avg_reading_score =sum_reading_score / tot_num_studs_reading\n",
    "# # avg_reading_score\n",
    "\n",
    "# reduced_school_data_comp = school_data_complete.loc[:, [\"school_name\", 'reading_score', 'math_score']]\n",
    "# reduced_school_data_comp = reduced_school_data_comp.loc[(reduced_school_data_comp[\"reading_score\"] > 69)]\n",
    "# reduced_school_data_comp = reduced_school_data_comp.loc[(reduced_school_data_comp[\"math_score\"] > 69)]\n",
    "\n",
    "# pass_grp_schools_df = reduced_school_data_comp.groupby([\"school_name\"])\n",
    "# # pass_grp_schools_df.count().head(10) \n",
    "\n",
    "# passing_sum_m_score = pass_grp_schools_df[[\"math_score\"]].count()\n",
    "# tot_num_studs = grp_schools_df[[\"math_score\"]].count()\n",
    "# pass_math_score = (passing_sum_m_score *100) / tot_num_studs\n",
    "# pass_math_score, tot_num_studs, passing_sum_m_score\n"
   ]
  },
  {
   "cell_type": "code",
   "execution_count": null,
   "metadata": {},
   "outputs": [],
   "source": [
    "\n",
    "\n"
   ]
  },
  {
   "cell_type": "code",
   "execution_count": null,
   "metadata": {},
   "outputs": [],
   "source": []
  },
  {
   "cell_type": "code",
   "execution_count": null,
   "metadata": {},
   "outputs": [],
   "source": []
  },
  {
   "cell_type": "code",
   "execution_count": null,
   "metadata": {},
   "outputs": [],
   "source": []
  },
  {
   "cell_type": "code",
   "execution_count": null,
   "metadata": {},
   "outputs": [],
   "source": [
    "\n"
   ]
  },
  {
   "cell_type": "markdown",
   "metadata": {},
   "source": [
    "## School Summary"
   ]
  },
  {
   "cell_type": "markdown",
   "metadata": {},
   "source": [
    "* Create an overview table that summarizes key metrics about each school, including:\n",
    "  * School Name\n",
    "  * School Type\n",
    "  * Total Students\n",
    "  * Total School Budget\n",
    "  * Per Student Budget\n",
    "  * Average Math Score\n",
    "  * Average Reading Score\n",
    "  * % Passing Math\n",
    "  * % Passing Reading\n",
    "  * % Overall Passing (The percentage of students that passed math **and** reading.)\n",
    "  \n",
    "* Create a dataframe to hold the above results"
   ]
  },
  {
   "cell_type": "code",
   "execution_count": null,
   "metadata": {},
   "outputs": [],
   "source": [
    "# studs_each_school= df_data.loc[sch_name_list, \"student_name\"]\n",
    "# studs_each_school\n",
    "\n",
    "# (normalize = True) given percentage of repeating items\n",
    "# School name is the key - students name keep changing and repeat sometimes. \n",
    "# df.data[\"school_name\"].value_counts()\n",
    "# Studs_each_sch = df_data.loc[sch_name_list[1], \"Student ID\"].value_count()\n"
   ]
  },
  {
   "cell_type": "code",
   "execution_count": null,
   "metadata": {},
   "outputs": [],
   "source": []
  },
  {
   "cell_type": "code",
   "execution_count": null,
   "metadata": {},
   "outputs": [],
   "source": []
  },
  {
   "cell_type": "code",
   "execution_count": null,
   "metadata": {},
   "outputs": [],
   "source": [
    "\n",
    "\n"
   ]
  },
  {
   "cell_type": "code",
   "execution_count": null,
   "metadata": {},
   "outputs": [],
   "source": []
  },
  {
   "cell_type": "code",
   "execution_count": null,
   "metadata": {},
   "outputs": [],
   "source": []
  },
  {
   "cell_type": "code",
   "execution_count": null,
   "metadata": {
    "scrolled": true
   },
   "outputs": [],
   "source": []
  },
  {
   "cell_type": "code",
   "execution_count": null,
   "metadata": {},
   "outputs": [],
   "source": []
  },
  {
   "cell_type": "code",
   "execution_count": null,
   "metadata": {},
   "outputs": [],
   "source": []
  },
  {
   "cell_type": "code",
   "execution_count": null,
   "metadata": {},
   "outputs": [],
   "source": []
  },
  {
   "cell_type": "code",
   "execution_count": null,
   "metadata": {},
   "outputs": [],
   "source": []
  },
  {
   "cell_type": "markdown",
   "metadata": {},
   "source": [
    "## Top Performing Schools (By % Overall Passing)"
   ]
  },
  {
   "cell_type": "markdown",
   "metadata": {},
   "source": [
    "* Sort and display the top five performing schools by % overall passing."
   ]
  },
  {
   "cell_type": "code",
   "execution_count": null,
   "metadata": {
    "scrolled": true
   },
   "outputs": [],
   "source": []
  },
  {
   "cell_type": "markdown",
   "metadata": {},
   "source": [
    "## Bottom Performing Schools (By % Overall Passing)"
   ]
  },
  {
   "cell_type": "markdown",
   "metadata": {},
   "source": [
    "* Sort and display the five worst-performing schools by % overall passing."
   ]
  },
  {
   "cell_type": "code",
   "execution_count": null,
   "metadata": {},
   "outputs": [],
   "source": []
  },
  {
   "cell_type": "markdown",
   "metadata": {
    "collapsed": true
   },
   "source": [
    "## Math Scores by Grade"
   ]
  },
  {
   "cell_type": "markdown",
   "metadata": {},
   "source": [
    "* Create a table that lists the average Reading Score for students of each grade level (9th, 10th, 11th, 12th) at each school.\n",
    "\n",
    "  * Create a pandas series for each grade. Hint: use a conditional statement.\n",
    "  \n",
    "  * Group each series by school\n",
    "  \n",
    "  * Combine the series into a dataframe\n",
    "  \n",
    "  * Optional: give the displayed data cleaner formatting"
   ]
  },
  {
   "cell_type": "code",
   "execution_count": null,
   "metadata": {},
   "outputs": [],
   "source": []
  },
  {
   "cell_type": "markdown",
   "metadata": {},
   "source": [
    "## Reading Score by Grade "
   ]
  },
  {
   "cell_type": "markdown",
   "metadata": {},
   "source": [
    "* Perform the same operations as above for reading scores"
   ]
  },
  {
   "cell_type": "code",
   "execution_count": null,
   "metadata": {},
   "outputs": [],
   "source": []
  },
  {
   "cell_type": "markdown",
   "metadata": {},
   "source": [
    "## Scores by School Spending"
   ]
  },
  {
   "cell_type": "markdown",
   "metadata": {},
   "source": [
    "* Create a table that breaks down school performances based on average Spending Ranges (Per Student). Use 4 reasonable bins to group school spending. Include in the table each of the following:\n",
    "  * Average Math Score\n",
    "  * Average Reading Score\n",
    "  * % Passing Math\n",
    "  * % Passing Reading\n",
    "  * Overall Passing Rate (Average of the above two)"
   ]
  },
  {
   "cell_type": "code",
   "execution_count": null,
   "metadata": {},
   "outputs": [],
   "source": []
  },
  {
   "cell_type": "markdown",
   "metadata": {},
   "source": [
    "## Scores by School Size"
   ]
  },
  {
   "cell_type": "markdown",
   "metadata": {},
   "source": [
    "* Perform the same operations as above, based on school size."
   ]
  },
  {
   "cell_type": "code",
   "execution_count": null,
   "metadata": {
    "scrolled": true
   },
   "outputs": [],
   "source": []
  },
  {
   "cell_type": "markdown",
   "metadata": {},
   "source": [
    "## Scores by School Type"
   ]
  },
  {
   "cell_type": "markdown",
   "metadata": {},
   "source": [
    "* Perform the same operations as above, based on school type"
   ]
  },
  {
   "cell_type": "code",
   "execution_count": null,
   "metadata": {},
   "outputs": [],
   "source": []
  },
  {
   "cell_type": "code",
   "execution_count": null,
   "metadata": {},
   "outputs": [],
   "source": []
  }
 ],
 "metadata": {
  "anaconda-cloud": {},
  "kernel_info": {
   "name": "python3"
  },
  "kernelspec": {
   "display_name": "Python 3 (ipykernel)",
   "language": "python",
   "name": "python3"
  },
  "language_info": {
   "codemirror_mode": {
    "name": "ipython",
    "version": 3
   },
   "file_extension": ".py",
   "mimetype": "text/x-python",
   "name": "python",
   "nbconvert_exporter": "python",
   "pygments_lexer": "ipython3",
   "version": "3.9.7"
  },
  "latex_envs": {
   "LaTeX_envs_menu_present": true,
   "autoclose": false,
   "autocomplete": true,
   "bibliofile": "biblio.bib",
   "cite_by": "apalike",
   "current_citInitial": 1,
   "eqLabelWithNumbers": true,
   "eqNumInitial": 1,
   "hotkeys": {
    "equation": "Ctrl-E",
    "itemize": "Ctrl-I"
   },
   "labels_anchors": false,
   "latex_user_defs": false,
   "report_style_numbering": false,
   "user_envs_cfg": false
  },
  "nteract": {
   "version": "0.8.4"
  }
 },
 "nbformat": 4,
 "nbformat_minor": 1
}
